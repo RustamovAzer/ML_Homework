{
 "cells": [
  {
   "cell_type": "markdown",
   "id": "5fa4fbd2",
   "metadata": {},
   "source": [
    "# ДЗ №5.\n",
    "#### Выполнил: Рустамов Азер"
   ]
  },
  {
   "cell_type": "markdown",
   "id": "a1889506",
   "metadata": {},
   "source": [
    "### Подключение библиотек"
   ]
  },
  {
   "cell_type": "code",
   "execution_count": 1,
   "id": "9b64081b",
   "metadata": {},
   "outputs": [],
   "source": [
    "import numpy as np\n",
    "import pandas as pd\n",
    "import sklearn\n",
    "import sklearn.model_selection\n",
    "import sklearn.metrics\n",
    "\n",
    "import matplotlib.pyplot as plt\n",
    "from sklearn.neural_network import MLPClassifier\n",
    "from sklearn.metrics import accuracy_score, confusion_matrix, ConfusionMatrixDisplay\n",
    "\n",
    "%matplotlib inline"
   ]
  },
  {
   "cell_type": "markdown",
   "id": "bc308bd0",
   "metadata": {},
   "source": [
    "В качестве датасета был использован обработаный датасет из домашней работы №2."
   ]
  },
  {
   "cell_type": "code",
   "execution_count": 2,
   "id": "3d7780ea",
   "metadata": {},
   "outputs": [],
   "source": [
    "DATASET_PATH = \"appstore_games_march_2021_3.csv\"\n",
    "dataset = pd.read_csv(DATASET_PATH)\n",
    "dataset.columns = dataset.columns.str.strip()\n",
    "dataset = dataset.drop(['Board', 'Card', 'Casino', 'Dice', 'Games', 'Music', 'Word', 'mac', 'Racing', 'Simulation', 'Sports', 'Trivia', 'Strategy'], axis=1)"
   ]
  },
  {
   "cell_type": "code",
   "execution_count": 3,
   "id": "522c7ffe",
   "metadata": {},
   "outputs": [],
   "source": [
    "np.random.seed(11)\n",
    "random_subset = np.random.choice(np.arange(dataset.shape[0]), size=50000, replace=False)\n",
    "dataset = dataset.iloc[random_subset]"
   ]
  },
  {
   "cell_type": "code",
   "execution_count": 4,
   "id": "50174059",
   "metadata": {},
   "outputs": [],
   "source": [
    "dataset_norm = (dataset - dataset.mean(axis = 0)) / dataset.std(axis = 0)"
   ]
  },
  {
   "cell_type": "markdown",
   "id": "eecd3c19",
   "metadata": {},
   "source": [
    "В качестве целевого столбца был использован столбец, содеожащий информацию о внутриигровых покупках."
   ]
  },
  {
   "cell_type": "code",
   "execution_count": 5,
   "id": "38e50686",
   "metadata": {},
   "outputs": [
    {
     "name": "stdout",
     "output_type": "stream",
     "text": [
      "(50000, 14)\n",
      "(50000,)\n"
     ]
    }
   ],
   "source": [
    "x = dataset_norm.drop([\"purchases\"], axis=1)\n",
    "y = dataset[\"purchases\"]\n",
    "print(x.shape)\n",
    "print(y.shape)"
   ]
  },
  {
   "cell_type": "code",
   "execution_count": 6,
   "id": "a9551043",
   "metadata": {},
   "outputs": [
    {
     "data": {
      "text/html": [
       "<div>\n",
       "<style scoped>\n",
       "    .dataframe tbody tr th:only-of-type {\n",
       "        vertical-align: middle;\n",
       "    }\n",
       "\n",
       "    .dataframe tbody tr th {\n",
       "        vertical-align: top;\n",
       "    }\n",
       "\n",
       "    .dataframe thead th {\n",
       "        text-align: right;\n",
       "    }\n",
       "</style>\n",
       "<table border=\"1\" class=\"dataframe\">\n",
       "  <thead>\n",
       "    <tr style=\"text-align: right;\">\n",
       "      <th></th>\n",
       "      <th>age_rating</th>\n",
       "      <th>size</th>\n",
       "      <th>price</th>\n",
       "      <th>purchases</th>\n",
       "      <th>rating_avg</th>\n",
       "      <th>rating_count</th>\n",
       "      <th>ipad</th>\n",
       "      <th>iphone</th>\n",
       "      <th>Action</th>\n",
       "      <th>Adventure</th>\n",
       "      <th>Casual</th>\n",
       "      <th>Educational</th>\n",
       "      <th>Family</th>\n",
       "      <th>Puzzle</th>\n",
       "      <th>Role Playing</th>\n",
       "    </tr>\n",
       "  </thead>\n",
       "  <tbody>\n",
       "    <tr>\n",
       "      <th>count</th>\n",
       "      <td>50000.000000</td>\n",
       "      <td>50000.000000</td>\n",
       "      <td>50000.000000</td>\n",
       "      <td>50000.000000</td>\n",
       "      <td>50000.000000</td>\n",
       "      <td>50000.000000</td>\n",
       "      <td>50000.000000</td>\n",
       "      <td>50000.000000</td>\n",
       "      <td>50000.000000</td>\n",
       "      <td>50000.000000</td>\n",
       "      <td>50000.000000</td>\n",
       "      <td>50000.000000</td>\n",
       "      <td>50000.000000</td>\n",
       "      <td>50000.000000</td>\n",
       "      <td>50000.000000</td>\n",
       "    </tr>\n",
       "    <tr>\n",
       "      <th>mean</th>\n",
       "      <td>5.984920</td>\n",
       "      <td>120.559120</td>\n",
       "      <td>0.208569</td>\n",
       "      <td>0.353860</td>\n",
       "      <td>2.651104</td>\n",
       "      <td>288.532980</td>\n",
       "      <td>0.889060</td>\n",
       "      <td>0.963500</td>\n",
       "      <td>0.079000</td>\n",
       "      <td>0.041740</td>\n",
       "      <td>0.100800</td>\n",
       "      <td>0.000020</td>\n",
       "      <td>0.044720</td>\n",
       "      <td>0.413400</td>\n",
       "      <td>0.019420</td>\n",
       "    </tr>\n",
       "    <tr>\n",
       "      <th>std</th>\n",
       "      <td>3.780627</td>\n",
       "      <td>150.241151</td>\n",
       "      <td>0.847215</td>\n",
       "      <td>0.478171</td>\n",
       "      <td>2.077665</td>\n",
       "      <td>2083.264647</td>\n",
       "      <td>0.314061</td>\n",
       "      <td>0.187533</td>\n",
       "      <td>0.269741</td>\n",
       "      <td>0.199996</td>\n",
       "      <td>0.301067</td>\n",
       "      <td>0.004472</td>\n",
       "      <td>0.206691</td>\n",
       "      <td>0.492448</td>\n",
       "      <td>0.137997</td>\n",
       "    </tr>\n",
       "    <tr>\n",
       "      <th>min</th>\n",
       "      <td>4.000000</td>\n",
       "      <td>1.700000</td>\n",
       "      <td>0.000000</td>\n",
       "      <td>0.000000</td>\n",
       "      <td>0.000000</td>\n",
       "      <td>0.000000</td>\n",
       "      <td>0.000000</td>\n",
       "      <td>0.000000</td>\n",
       "      <td>0.000000</td>\n",
       "      <td>0.000000</td>\n",
       "      <td>0.000000</td>\n",
       "      <td>0.000000</td>\n",
       "      <td>0.000000</td>\n",
       "      <td>0.000000</td>\n",
       "      <td>0.000000</td>\n",
       "    </tr>\n",
       "    <tr>\n",
       "      <th>25%</th>\n",
       "      <td>4.000000</td>\n",
       "      <td>32.300000</td>\n",
       "      <td>0.000000</td>\n",
       "      <td>0.000000</td>\n",
       "      <td>0.000000</td>\n",
       "      <td>0.000000</td>\n",
       "      <td>1.000000</td>\n",
       "      <td>1.000000</td>\n",
       "      <td>0.000000</td>\n",
       "      <td>0.000000</td>\n",
       "      <td>0.000000</td>\n",
       "      <td>0.000000</td>\n",
       "      <td>0.000000</td>\n",
       "      <td>0.000000</td>\n",
       "      <td>0.000000</td>\n",
       "    </tr>\n",
       "    <tr>\n",
       "      <th>50%</th>\n",
       "      <td>4.000000</td>\n",
       "      <td>78.500000</td>\n",
       "      <td>0.000000</td>\n",
       "      <td>0.000000</td>\n",
       "      <td>3.500000</td>\n",
       "      <td>2.000000</td>\n",
       "      <td>1.000000</td>\n",
       "      <td>1.000000</td>\n",
       "      <td>0.000000</td>\n",
       "      <td>0.000000</td>\n",
       "      <td>0.000000</td>\n",
       "      <td>0.000000</td>\n",
       "      <td>0.000000</td>\n",
       "      <td>0.000000</td>\n",
       "      <td>0.000000</td>\n",
       "    </tr>\n",
       "    <tr>\n",
       "      <th>75%</th>\n",
       "      <td>4.000000</td>\n",
       "      <td>150.500000</td>\n",
       "      <td>0.000000</td>\n",
       "      <td>1.000000</td>\n",
       "      <td>4.600000</td>\n",
       "      <td>12.000000</td>\n",
       "      <td>1.000000</td>\n",
       "      <td>1.000000</td>\n",
       "      <td>0.000000</td>\n",
       "      <td>0.000000</td>\n",
       "      <td>0.000000</td>\n",
       "      <td>0.000000</td>\n",
       "      <td>0.000000</td>\n",
       "      <td>1.000000</td>\n",
       "      <td>0.000000</td>\n",
       "    </tr>\n",
       "    <tr>\n",
       "      <th>max</th>\n",
       "      <td>17.000000</td>\n",
       "      <td>1536.000000</td>\n",
       "      <td>8.990000</td>\n",
       "      <td>1.000000</td>\n",
       "      <td>5.000000</td>\n",
       "      <td>40300.000000</td>\n",
       "      <td>1.000000</td>\n",
       "      <td>1.000000</td>\n",
       "      <td>1.000000</td>\n",
       "      <td>1.000000</td>\n",
       "      <td>1.000000</td>\n",
       "      <td>1.000000</td>\n",
       "      <td>1.000000</td>\n",
       "      <td>1.000000</td>\n",
       "      <td>1.000000</td>\n",
       "    </tr>\n",
       "  </tbody>\n",
       "</table>\n",
       "</div>"
      ],
      "text/plain": [
       "         age_rating          size         price     purchases    rating_avg  \\\n",
       "count  50000.000000  50000.000000  50000.000000  50000.000000  50000.000000   \n",
       "mean       5.984920    120.559120      0.208569      0.353860      2.651104   \n",
       "std        3.780627    150.241151      0.847215      0.478171      2.077665   \n",
       "min        4.000000      1.700000      0.000000      0.000000      0.000000   \n",
       "25%        4.000000     32.300000      0.000000      0.000000      0.000000   \n",
       "50%        4.000000     78.500000      0.000000      0.000000      3.500000   \n",
       "75%        4.000000    150.500000      0.000000      1.000000      4.600000   \n",
       "max       17.000000   1536.000000      8.990000      1.000000      5.000000   \n",
       "\n",
       "       rating_count          ipad        iphone        Action     Adventure  \\\n",
       "count  50000.000000  50000.000000  50000.000000  50000.000000  50000.000000   \n",
       "mean     288.532980      0.889060      0.963500      0.079000      0.041740   \n",
       "std     2083.264647      0.314061      0.187533      0.269741      0.199996   \n",
       "min        0.000000      0.000000      0.000000      0.000000      0.000000   \n",
       "25%        0.000000      1.000000      1.000000      0.000000      0.000000   \n",
       "50%        2.000000      1.000000      1.000000      0.000000      0.000000   \n",
       "75%       12.000000      1.000000      1.000000      0.000000      0.000000   \n",
       "max    40300.000000      1.000000      1.000000      1.000000      1.000000   \n",
       "\n",
       "             Casual   Educational        Family        Puzzle  Role Playing  \n",
       "count  50000.000000  50000.000000  50000.000000  50000.000000  50000.000000  \n",
       "mean       0.100800      0.000020      0.044720      0.413400      0.019420  \n",
       "std        0.301067      0.004472      0.206691      0.492448      0.137997  \n",
       "min        0.000000      0.000000      0.000000      0.000000      0.000000  \n",
       "25%        0.000000      0.000000      0.000000      0.000000      0.000000  \n",
       "50%        0.000000      0.000000      0.000000      0.000000      0.000000  \n",
       "75%        0.000000      0.000000      0.000000      1.000000      0.000000  \n",
       "max        1.000000      1.000000      1.000000      1.000000      1.000000  "
      ]
     },
     "execution_count": 6,
     "metadata": {},
     "output_type": "execute_result"
    }
   ],
   "source": [
    "dataset.describe()"
   ]
  },
  {
   "cell_type": "markdown",
   "id": "1fddf899",
   "metadata": {},
   "source": [
    "### Разбиваем данные на обучающую и тестовую выборки"
   ]
  },
  {
   "cell_type": "code",
   "execution_count": 7,
   "id": "04eed619",
   "metadata": {},
   "outputs": [],
   "source": [
    "x_train, x_test, y_train, y_test = sklearn.model_selection.train_test_split(x, y, test_size=0.25, random_state=43)"
   ]
  },
  {
   "cell_type": "markdown",
   "id": "492436e2",
   "metadata": {},
   "source": [
    "### Обучение классификатора с одним скрытым слоем"
   ]
  },
  {
   "cell_type": "code",
   "execution_count": 8,
   "id": "3f1437c1",
   "metadata": {},
   "outputs": [],
   "source": [
    "model = MLPClassifier(\n",
    "    hidden_layer_sizes=(100,),\n",
    "    solver='adam',\n",
    "    activation='relu',\n",
    "    random_state=42\n",
    ")"
   ]
  },
  {
   "cell_type": "code",
   "execution_count": 9,
   "id": "28c3e1d3",
   "metadata": {},
   "outputs": [
    {
     "name": "stdout",
     "output_type": "stream",
     "text": [
      "Wall time: 22.2 s\n"
     ]
    },
    {
     "data": {
      "text/plain": [
       "MLPClassifier(random_state=42)"
      ]
     },
     "execution_count": 9,
     "metadata": {},
     "output_type": "execute_result"
    }
   ],
   "source": [
    "%%time\n",
    "model.fit(x_train, y_train)"
   ]
  },
  {
   "cell_type": "code",
   "execution_count": 10,
   "id": "c1a6d15b",
   "metadata": {},
   "outputs": [],
   "source": [
    "y_train_prediction = model.predict(x_train)\n",
    "y_test_prediction = model.predict(x_test)"
   ]
  },
  {
   "cell_type": "markdown",
   "id": "7d682347",
   "metadata": {},
   "source": [
    "### Проверка качества классификатора"
   ]
  },
  {
   "cell_type": "code",
   "execution_count": 11,
   "id": "f3af846a",
   "metadata": {},
   "outputs": [
    {
     "name": "stdout",
     "output_type": "stream",
     "text": [
      "[Accuracy]\n",
      "\n",
      "Train: 0.7293066666666667, Test: 0.72576\n"
     ]
    }
   ],
   "source": [
    "accuracy_score(y_train, y_train_prediction)\n",
    "accuracy_score(y_test, y_test_prediction)\n",
    "print('[Accuracy]\\n')\n",
    "print('Train: {}, Test: {}'.format(\n",
    "    sklearn.metrics.accuracy_score(y_train, y_train_prediction),\n",
    "    sklearn.metrics.accuracy_score(y_test, y_test_prediction)\n",
    "))"
   ]
  },
  {
   "cell_type": "code",
   "execution_count": 12,
   "id": "96e1e09a",
   "metadata": {},
   "outputs": [
    {
     "data": {
      "image/png": "[encoded data removed]",
      "text/plain": [
       "<Figure size 432x288 with 2 Axes>"
      ]
     },
     "metadata": {
      "needs_background": "light"
     },
     "output_type": "display_data"
    }
   ],
   "source": [
    "predictions = model.predict(x_test)\n",
    "cm = confusion_matrix(y_test, predictions, labels=model.classes_)\n",
    "disp = ConfusionMatrixDisplay(confusion_matrix=cm, display_labels=model.classes_)\n",
    "disp.plot()\n",
    "plt.show()"
   ]
  },
  {
   "cell_type": "markdown",
   "id": "a368f8f8",
   "metadata": {},
   "source": [
    "### Обучение классификатора с двумя скрытыми слоями"
   ]
  },
  {
   "cell_type": "code",
   "execution_count": 13,
   "id": "932df299",
   "metadata": {},
   "outputs": [],
   "source": [
    "model = MLPClassifier(\n",
    "    hidden_layer_sizes=(10, 20),\n",
    "    solver='adam',\n",
    "    activation='relu',\n",
    "    random_state=44\n",
    ")"
   ]
  },
  {
   "cell_type": "code",
   "execution_count": 14,
   "id": "ce252576",
   "metadata": {},
   "outputs": [
    {
     "name": "stdout",
     "output_type": "stream",
     "text": [
      "Wall time: 18.9 s\n"
     ]
    },
    {
     "data": {
      "text/plain": [
       "MLPClassifier(hidden_layer_sizes=(10, 20), random_state=44)"
      ]
     },
     "execution_count": 14,
     "metadata": {},
     "output_type": "execute_result"
    }
   ],
   "source": [
    "%%time\n",
    "model.fit(x_train, y_train)"
   ]
  },
  {
   "cell_type": "markdown",
   "id": "945b2d42",
   "metadata": {},
   "source": [
    "### Проверка качества классификатора"
   ]
  },
  {
   "cell_type": "code",
   "execution_count": 15,
   "id": "ddc25b46",
   "metadata": {},
   "outputs": [
    {
     "name": "stdout",
     "output_type": "stream",
     "text": [
      "[Accuracy]\n",
      "\n",
      "Train: 0.72536, Test: 0.72088\n"
     ]
    }
   ],
   "source": [
    "y_train_prediction = model.predict(x_train)\n",
    "y_test_prediction = model.predict(x_test)\n",
    "accuracy_score(y_train, y_train_prediction)\n",
    "accuracy_score(y_test, y_test_prediction)\n",
    "print('[Accuracy]\\n')\n",
    "print('Train: {}, Test: {}'.format(\n",
    "    sklearn.metrics.accuracy_score(y_train, y_train_prediction),\n",
    "    sklearn.metrics.accuracy_score(y_test, y_test_prediction)\n",
    "))"
   ]
  },
  {
   "cell_type": "code",
   "execution_count": 16,
   "id": "c54ba02a",
   "metadata": {},
   "outputs": [
    {
     "data": {
      "image/png": "[encoded data removed]",
      "text/plain": [
       "<Figure size 432x288 with 2 Axes>"
      ]
     },
     "metadata": {
      "needs_background": "light"
     },
     "output_type": "display_data"
    }
   ],
   "source": [
    "predictions = model.predict(x_test)\n",
    "cm = confusion_matrix(y_test, predictions, labels=model.classes_)\n",
    "disp = ConfusionMatrixDisplay(confusion_matrix=cm, display_labels=model.classes_)\n",
    "disp.plot()\n",
    "plt.show()"
   ]
  },
  {
   "cell_type": "markdown",
   "id": "f05324fb",
   "metadata": {},
   "source": [
    "#### Подбор параметра `alpha`"
   ]
  },
  {
   "cell_type": "code",
   "execution_count": 17,
   "id": "cdf0b515",
   "metadata": {},
   "outputs": [],
   "source": [
    "alpha_arr = np.logspace(-5, 3, 15)\n",
    "test_err = []\n",
    "train_err = []\n",
    "train_acc = []\n",
    "test_acc = []\n",
    "\n",
    "for alpha in alpha_arr:\n",
    "    mlp_model = MLPClassifier(alpha = alpha, hidden_layer_sizes = (100,), \n",
    "                              solver = 'adam', activation = 'relu', max_iter=1000, random_state = 42)\n",
    "    mlp_model.fit(x_train, y_train)\n",
    "\n",
    "    y_train_pred = mlp_model.predict(x_train)\n",
    "    y_test_pred = mlp_model.predict(x_test)\n",
    "    \n",
    "    train_err.append(np.mean(y_train != y_train_pred))\n",
    "    test_err.append(np.mean(y_test != y_test_pred))\n",
    "    train_acc.append(accuracy_score(y_train, y_train_pred))\n",
    "    test_acc.append(accuracy_score(y_test, y_test_pred))"
   ]
  },
  {
   "cell_type": "code",
   "execution_count": 18,
   "id": "4b586503",
   "metadata": {},
   "outputs": [
    {
     "data": {
      "text/plain": [
       "<matplotlib.legend.Legend at 0x18e78db5430>"
      ]
     },
     "execution_count": 18,
     "metadata": {},
     "output_type": "execute_result"
    },
    {
     "data": {
      "image/png": "[encoded data removed]",
      "text/plain": [
       "<Figure size 432x288 with 1 Axes>"
      ]
     },
     "metadata": {
      "needs_background": "light"
     },
     "output_type": "display_data"
    }
   ],
   "source": [
    "plt.semilogx(alpha_arr, train_err, 'b-o', label = 'train')\n",
    "plt.semilogx(alpha_arr, test_err, 'r-o', label = 'test')\n",
    "plt.xlim([np.min(alpha_arr), np.max(alpha_arr)])\n",
    "plt.title('Error vs. alpha')\n",
    "plt.xlabel('alpha')\n",
    "plt.ylabel('error')\n",
    "plt.legend()"
   ]
  },
  {
   "cell_type": "code",
   "execution_count": 19,
   "id": "425d0541",
   "metadata": {},
   "outputs": [
    {
     "data": {
      "text/plain": [
       "<matplotlib.legend.Legend at 0x18e76c32640>"
      ]
     },
     "execution_count": 19,
     "metadata": {},
     "output_type": "execute_result"
    },
    {
     "data": {
      "image/png": "[encoded data removed]",
      "text/plain": [
       "<Figure size 432x288 with 1 Axes>"
      ]
     },
     "metadata": {
      "needs_background": "light"
     },
     "output_type": "display_data"
    }
   ],
   "source": [
    "plt.semilogx(alpha_arr, train_acc, 'r-o', label = 'train')\n",
    "plt.semilogx(alpha_arr, test_acc, 'b-o', label = 'test')\n",
    "plt.xlim([np.min(alpha_arr), np.max(alpha_arr)])\n",
    "plt.title('Accuracy vs. alpha')\n",
    "plt.xlabel('alpha')\n",
    "plt.ylabel('Accuracy')\n",
    "plt.legend()"
   ]
  },
  {
   "cell_type": "markdown",
   "id": "212d420f",
   "metadata": {},
   "source": [
    "При увеличении `alpha` уменьшается точность модели. Значительного переобучения не наблюдается. Недообучение возникает при больших `alpha`"
   ]
  },
  {
   "cell_type": "code",
   "execution_count": 20,
   "id": "1346f111",
   "metadata": {},
   "outputs": [
    {
     "name": "stdout",
     "output_type": "stream",
     "text": [
      "0.2704533333333333 0.27416\n"
     ]
    }
   ],
   "source": [
    "min_train_err = np.min(train_err)\n",
    "min_test_err = np.min(test_err)\n",
    "print(min_train_err, min_test_err)"
   ]
  },
  {
   "cell_type": "markdown",
   "id": "30741f7e",
   "metadata": {},
   "source": [
    "### Оптимальное значение `alpha`"
   ]
  },
  {
   "cell_type": "code",
   "execution_count": 21,
   "id": "ce03eb3f",
   "metadata": {},
   "outputs": [
    {
     "name": "stdout",
     "output_type": "stream",
     "text": [
      "[0.0019307]\n"
     ]
    }
   ],
   "source": [
    "alpha_opt = alpha_arr[test_err == min_test_err]\n",
    "print(alpha_opt)"
   ]
  },
  {
   "cell_type": "markdown",
   "id": "fff06388",
   "metadata": {},
   "source": [
    "#### Подбор числа нейронов"
   ]
  },
  {
   "cell_type": "code",
   "execution_count": 22,
   "id": "25e3670e",
   "metadata": {},
   "outputs": [],
   "source": [
    "neuron_count_array = np.linspace(10, 300, 30).astype(int)\n",
    "test_error = []\n",
    "train_error = []\n",
    "\n",
    "for neuron_count in neuron_count_array:\n",
    "    model = MLPClassifier(\n",
    "        alpha=alpha_opt[0],\n",
    "        hidden_layer_sizes=(neuron_count,),\n",
    "        solver='adam',\n",
    "        activation ='relu',\n",
    "        max_iter=1000,\n",
    "        random_state = 42\n",
    "    )\n",
    "    model.fit(x_train, y_train)\n",
    "\n",
    "    y_train_prediction = model.predict(x_train)\n",
    "    y_test_prediction = model.predict(x_test)\n",
    "\n",
    "    test_error.append(np.mean(y_test != y_test_prediction))\n",
    "    train_error.append(np.mean(y_train != y_train_prediction)) "
   ]
  },
  {
   "cell_type": "code",
   "execution_count": 23,
   "id": "e7d51cbf",
   "metadata": {},
   "outputs": [
    {
     "data": {
      "text/plain": [
       "<matplotlib.legend.Legend at 0x18e79060f40>"
      ]
     },
     "execution_count": 23,
     "metadata": {},
     "output_type": "execute_result"
    },
    {
     "data": {
      "image/png": "[encoded data removed]",
      "text/plain": [
       "<Figure size 432x288 with 1 Axes>"
      ]
     },
     "metadata": {
      "needs_background": "light"
     },
     "output_type": "display_data"
    }
   ],
   "source": [
    "plt.plot(neuron_count_array, train_error, 'r-o', label='train')\n",
    "plt.plot(neuron_count_array, test_error, 'b-o', label='test')\n",
    "plt.xlim([np.min(neuron_count_array), np.max(neuron_count_array)])\n",
    "plt.xlabel('neuron count')\n",
    "plt.ylabel('error')\n",
    "plt.legend() "
   ]
  },
  {
   "cell_type": "code",
   "execution_count": 27,
   "id": "ddfee686",
   "metadata": {},
   "outputs": [
    {
     "name": "stdout",
     "output_type": "stream",
     "text": [
      "0.2660266666666667 0.27136\n"
     ]
    }
   ],
   "source": [
    "min_train_err = np.min(train_error)\n",
    "min_test_err = np.min(test_error)\n",
    "print(min_train_err, min_test_err)"
   ]
  },
  {
   "cell_type": "markdown",
   "id": "653f1290",
   "metadata": {},
   "source": [
    "Явной зависимости ошибки от числа нейронов не наблюдается, но можно отметить несколько оптимальных значений."
   ]
  },
  {
   "cell_type": "markdown",
   "id": "a7b4e823",
   "metadata": {},
   "source": [
    "### Оптимальное число нейронов"
   ]
  },
  {
   "cell_type": "code",
   "execution_count": 24,
   "id": "c1fbc05b",
   "metadata": {},
   "outputs": [
    {
     "name": "stdout",
     "output_type": "stream",
     "text": [
      "Optimal neuron count: 230\n"
     ]
    }
   ],
   "source": [
    "min_test_error = np.min(test_error)\n",
    "neuron_count_opt = neuron_count_array[test_error == min_test_error][0]\n",
    "print('Optimal neuron count: {}'.format(neuron_count_opt)) "
   ]
  },
  {
   "cell_type": "markdown",
   "id": "62708bcd",
   "metadata": {},
   "source": [
    "### Подбор оптимального значения параметра `alpha` и числа нейронов"
   ]
  },
  {
   "cell_type": "code",
   "execution_count": 25,
   "id": "f6021eba",
   "metadata": {},
   "outputs": [],
   "source": [
    "neuron_arr = np.linspace(10, 300, 5).astype(int)\n",
    "alpha_arr = np.logspace(-5, 3, 5)\n",
    "test_err = []\n",
    "train_err = []\n",
    "train_acc = []\n",
    "test_acc = []\n",
    "opts_neuron_arr = []\n",
    "opts_alpha_arr = []\n",
    "\n",
    "for neuron in neuron_arr:\n",
    "    for alpha in alpha_arr:\n",
    "        mlp_model = MLPClassifier(alpha = alpha, hidden_layer_sizes = (neuron,), \n",
    "                                  solver = 'adam', activation = 'relu', max_iter=1000, random_state = 30)\n",
    "        mlp_model.fit(x_train, y_train)\n",
    "\n",
    "        y_train_pred = mlp_model.predict(x_train)\n",
    "        y_test_pred = mlp_model.predict(x_test)\n",
    "\n",
    "        train_err.append(np.mean(y_train != y_train_pred))\n",
    "        test_err.append(np.mean(y_test != y_test_pred))\n",
    "        train_acc.append(accuracy_score(y_train, y_train_pred))\n",
    "        test_acc.append(accuracy_score(y_test, y_test_pred))\n",
    "        opts_neuron_arr.append([neuron, alpha])\n"
   ]
  },
  {
   "cell_type": "markdown",
   "id": "4e4f87dc",
   "metadata": {},
   "source": [
    "Оптимальные значения `alpha` и числа нейронов, а также значение ошибки на тестовой выборке при этих параметрах"
   ]
  },
  {
   "cell_type": "code",
   "execution_count": 26,
   "id": "f163e74e",
   "metadata": {},
   "outputs": [
    {
     "name": "stdout",
     "output_type": "stream",
     "text": [
      "Neuron count opt: 82\n",
      "Alpha opt:  1e-05\n",
      "Min test error:  0.27384\n"
     ]
    }
   ],
   "source": [
    "min_test_error = np.min(test_err)\n",
    "i,  = np.where(test_err == min_test_error)\n",
    "neuron_opt, alpha_opt = opts_neuron_arr[i[0]]\n",
    "print(\"Neuron count opt:\", neuron_opt)\n",
    "print(\"Alpha opt: \", alpha_opt)\n",
    "print(\"Min test error: \", min_test_error)"
   ]
  },
  {
   "cell_type": "markdown",
   "id": "7c007c85",
   "metadata": {},
   "source": [
    "## Выводы\n",
    "* При больших значениях параметра регуляризации `alpha` наблюдается недообучение\n",
    "* Подбор оптимального числа нейронов повысил точность на тестовой выборке;\n",
    " "
   ]
  }
 ],
 "metadata": {
  "kernelspec": {
   "display_name": "Python 3",
   "language": "python",
   "name": "python3"
  },
  "language_info": {
   "codemirror_mode": {
    "name": "ipython",
    "version": 3
   },
   "file_extension": ".py",
   "mimetype": "text/x-python",
   "name": "python",
   "nbconvert_exporter": "python",
   "pygments_lexer": "ipython3",
   "version": "3.8.8"
  }
 },
 "nbformat": 4,
 "nbformat_minor": 5
}
